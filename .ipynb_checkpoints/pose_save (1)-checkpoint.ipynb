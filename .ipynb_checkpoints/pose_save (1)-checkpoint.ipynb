{
 "cells": [
  {
   "cell_type": "markdown",
   "metadata": {
    "id": "Qf_4eCYbPqEF"
   },
   "source": [
    "**Read me**\n",
    "1. Insert this file into Google Drive\n",
    "2. Create a folder named 'videos' in Drive and upload your videos in it\n",
    "3. Right click on 'pose_save.ipynb' and then click on open with Google Colaboratory\n",
    "4. Run cells below"
   ]
  },
  {
   "cell_type": "code",
   "execution_count": null,
   "metadata": {
    "colab": {
     "base_uri": "https://localhost:8080/"
    },
    "id": "zmGCFDrsV5mS",
    "outputId": "49b1dd07-bd99-4afe-c5bf-5c4d4e9296b8"
   },
   "outputs": [],
   "source": [
    "!pip install mediapipe"
   ]
  },
  {
   "cell_type": "code",
   "execution_count": 1,
   "metadata": {
    "id": "Pnr2NSPWUa2G"
   },
   "outputs": [
    {
     "ename": "ModuleNotFoundError",
     "evalue": "No module named 'mediapipe'",
     "output_type": "error",
     "traceback": [
      "\u001b[1;31m---------------------------------------------------------------------------\u001b[0m",
      "\u001b[1;31mModuleNotFoundError\u001b[0m                       Traceback (most recent call last)",
      "Input \u001b[1;32mIn [1]\u001b[0m, in \u001b[0;36m<cell line: 1>\u001b[1;34m()\u001b[0m\n\u001b[1;32m----> 1\u001b[0m \u001b[38;5;28;01mimport\u001b[39;00m \u001b[38;5;21;01mmediapipe\u001b[39;00m \u001b[38;5;28;01mas\u001b[39;00m \u001b[38;5;21;01mmp\u001b[39;00m\n\u001b[0;32m      2\u001b[0m \u001b[38;5;28;01mimport\u001b[39;00m \u001b[38;5;21;01mcv2\u001b[39;00m\n\u001b[0;32m      3\u001b[0m \u001b[38;5;28;01mimport\u001b[39;00m \u001b[38;5;21;01mnumpy\u001b[39;00m \u001b[38;5;28;01mas\u001b[39;00m \u001b[38;5;21;01mnp\u001b[39;00m\n",
      "\u001b[1;31mModuleNotFoundError\u001b[0m: No module named 'mediapipe'"
     ]
    }
   ],
   "source": [
    "import mediapipe as mp\n",
    "import cv2\n",
    "import numpy as np\n",
    "#from google.colab.patches import cv2_imshow\n",
    "import pandas as pd\n",
    "import os\n",
    "\n",
    "mp_holistic=mp.solutions.holistic"
   ]
  },
  {
   "cell_type": "markdown",
   "metadata": {
    "id": "lP-mLDsVTBGk"
   },
   "source": [
    "After running cell below you may see some windows asking for your permission to connect to your Drive, so accept all and continue. "
   ]
  },
  {
   "cell_type": "code",
   "execution_count": null,
   "metadata": {
    "colab": {
     "base_uri": "https://localhost:8080/"
    },
    "id": "DM8aSHiWItbX",
    "outputId": "9d0b0a85-c27d-4a6b-be3d-25b68a006756"
   },
   "outputs": [
    {
     "name": "stdout",
     "output_type": "stream",
     "text": [
      "Mounted at /content/drive\n"
     ]
    }
   ],
   "source": [
    "from google.colab import drive\n",
    "drive.mount('/content/drive')"
   ]
  },
  {
   "cell_type": "markdown",
   "metadata": {
    "id": "7OyZ9glgXv7P"
   },
   "source": [
    "This cell makes a list of files in 'videos' folder and creates a folder for saving excel files if not exists"
   ]
  },
  {
   "cell_type": "code",
   "execution_count": null,
   "metadata": {
    "id": "lSrMJPB6a_If"
   },
   "outputs": [],
   "source": [
    "video_folder_path = '/content/drive/MyDrive/videos' \n",
    "files = os.listdir(video_folder_path) \n",
    "excel_folder_path = '/content/drive/MyDrive/xls' \n",
    "if not os.path.exists(excel_folder_path): \n",
    "  os.makedirs(excel_folder_path)"
   ]
  },
  {
   "cell_type": "markdown",
   "metadata": {
    "id": "70SZD5zoZJ9u"
   },
   "source": [
    "This cell picks up each video file and extracts its pose landmarks and then saves the landmark coordinates and frame numbers in an '.xlsx' file in 'xls' folder.  "
   ]
  },
  {
   "cell_type": "code",
   "execution_count": null,
   "metadata": {
    "id": "6d1Wo7R1F6D-"
   },
   "outputs": [],
   "source": [
    "# Initiate holistic model\n",
    "holistic = mp_holistic.Holistic(min_detection_confidence=0.5, min_tracking_confidence=0.5)\n",
    "for item in files:\n",
    "  cap = cv2.VideoCapture(video_folder_path + '/' + item)\n",
    "  counter = 0\n",
    "  failed = 0\n",
    "  df = pd.DataFrame(columns= ['frame', 'x', 'y', 'z'])\n",
    "  while cap.isOpened():\n",
    "    ret, frame = cap.read()\n",
    "    \n",
    "    if ret == True:\n",
    "      \n",
    "      image = cv2.cvtColor(frame, cv2.COLOR_BGR2RGB)\n",
    "      results = holistic.process(image)\n",
    "      if results.pose_landmarks:\n",
    "        # saving to excel\n",
    "        counter += 1\n",
    "        data = [{'frame': counter, 'x': i.x,'y': i.y,'z': i.z} for i in results.pose_landmarks.landmark]\n",
    "        df1 = pd.DataFrame(data = data)\n",
    "        df = df.append(df1)\n",
    "      else:\n",
    "        failed += 1\n",
    "\n",
    "      if cv2.waitKey(5) & 0xFF == 27:\n",
    "        break\n",
    "\n",
    "    else:\n",
    "      break\n",
    "  print('{} frames failed'.format(failed))\n",
    "  name = excel_folder_path + '/' + item[:-3] + 'xlsx'\n",
    "  df = df.astype(float)\n",
    "  df.to_excel(name)\n",
    "\n",
    "  cap.release()\n",
    "  cv2.destroyAllWindows()"
   ]
  }
 ],
 "metadata": {
  "colab": {
   "provenance": []
  },
  "gpuClass": "standard",
  "kernelspec": {
   "display_name": "Python 3 (ipykernel)",
   "language": "python",
   "name": "python3"
  },
  "language_info": {
   "codemirror_mode": {
    "name": "ipython",
    "version": 3
   },
   "file_extension": ".py",
   "mimetype": "text/x-python",
   "name": "python",
   "nbconvert_exporter": "python",
   "pygments_lexer": "ipython3",
   "version": "3.9.12"
  }
 },
 "nbformat": 4,
 "nbformat_minor": 1
}
