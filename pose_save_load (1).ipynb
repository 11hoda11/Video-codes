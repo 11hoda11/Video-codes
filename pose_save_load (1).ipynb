{
  "cells": [
    {
      "cell_type": "markdown",
      "metadata": {
        "id": "Qf_4eCYbPqEF"
      },
      "source": [
        "**Read me**\n",
        "1. Insert this file into Google Drive\n",
        "2. Create a folder named 'videos' in Drive and upload your videos in it\n",
        "3. Right click on 'pose_save_load.ipynb' and then click on open with Google Colaboratory\n",
        "4. Run cells below"
      ]
    },
    {
      "cell_type": "code",
      "execution_count": 1,
      "metadata": {
        "colab": {
          "base_uri": "https://localhost:8080/"
        },
        "id": "zmGCFDrsV5mS",
        "outputId": "92a3ee50-50a3-4adb-c0bd-6de62a88bb33"
      },
      "outputs": [
        {
          "output_type": "stream",
          "name": "stdout",
          "text": [
            "Looking in indexes: https://pypi.org/simple, https://us-python.pkg.dev/colab-wheels/public/simple/\n",
            "Collecting mediapipe\n",
            "  Downloading mediapipe-0.9.0.1-cp38-cp38-manylinux_2_17_x86_64.manylinux2014_x86_64.whl (33.0 MB)\n",
            "\u001b[K     |████████████████████████████████| 33.0 MB 1.3 MB/s \n",
            "\u001b[?25hRequirement already satisfied: numpy in /usr/local/lib/python3.8/dist-packages (from mediapipe) (1.21.6)\n",
            "Requirement already satisfied: attrs>=19.1.0 in /usr/local/lib/python3.8/dist-packages (from mediapipe) (22.1.0)\n",
            "Requirement already satisfied: protobuf<4,>=3.11 in /usr/local/lib/python3.8/dist-packages (from mediapipe) (3.19.6)\n",
            "Requirement already satisfied: matplotlib in /usr/local/lib/python3.8/dist-packages (from mediapipe) (3.2.2)\n",
            "Requirement already satisfied: absl-py in /usr/local/lib/python3.8/dist-packages (from mediapipe) (1.3.0)\n",
            "Requirement already satisfied: opencv-contrib-python in /usr/local/lib/python3.8/dist-packages (from mediapipe) (4.6.0.66)\n",
            "Collecting flatbuffers>=2.0\n",
            "  Downloading flatbuffers-22.12.6-py2.py3-none-any.whl (26 kB)\n",
            "Requirement already satisfied: cycler>=0.10 in /usr/local/lib/python3.8/dist-packages (from matplotlib->mediapipe) (0.11.0)\n",
            "Requirement already satisfied: python-dateutil>=2.1 in /usr/local/lib/python3.8/dist-packages (from matplotlib->mediapipe) (2.8.2)\n",
            "Requirement already satisfied: pyparsing!=2.0.4,!=2.1.2,!=2.1.6,>=2.0.1 in /usr/local/lib/python3.8/dist-packages (from matplotlib->mediapipe) (3.0.9)\n",
            "Requirement already satisfied: kiwisolver>=1.0.1 in /usr/local/lib/python3.8/dist-packages (from matplotlib->mediapipe) (1.4.4)\n",
            "Requirement already satisfied: six>=1.5 in /usr/local/lib/python3.8/dist-packages (from python-dateutil>=2.1->matplotlib->mediapipe) (1.15.0)\n",
            "Installing collected packages: flatbuffers, mediapipe\n",
            "  Attempting uninstall: flatbuffers\n",
            "    Found existing installation: flatbuffers 1.12\n",
            "    Uninstalling flatbuffers-1.12:\n",
            "      Successfully uninstalled flatbuffers-1.12\n",
            "\u001b[31mERROR: pip's dependency resolver does not currently take into account all the packages that are installed. This behaviour is the source of the following dependency conflicts.\n",
            "tensorflow 2.9.2 requires flatbuffers<2,>=1.12, but you have flatbuffers 22.12.6 which is incompatible.\u001b[0m\n",
            "Successfully installed flatbuffers-22.12.6 mediapipe-0.9.0.1\n"
          ]
        }
      ],
      "source": [
        "!pip install mediapipe"
      ]
    },
    {
      "cell_type": "code",
      "execution_count": 2,
      "metadata": {
        "id": "Pnr2NSPWUa2G"
      },
      "outputs": [],
      "source": [
        "import mediapipe as mp\n",
        "import cv2\n",
        "import numpy as np\n",
        "from google.colab.patches import cv2_imshow\n",
        "import pandas as pd\n",
        "import openpyxl\n",
        "import os\n",
        "#mp_drawing=mp.solutions.drawing_utils\n",
        "mp_holistic=mp.solutions.holistic\n",
        "\n"
      ]
    },
    {
      "cell_type": "markdown",
      "metadata": {
        "id": "lP-mLDsVTBGk"
      },
      "source": [
        "After running cell below you may see some windows asking for your permission to connect to your Drive, so accept all and continue. "
      ]
    },
    {
      "cell_type": "code",
      "execution_count": 4,
      "metadata": {
        "colab": {
          "base_uri": "https://localhost:8080/"
        },
        "id": "DM8aSHiWItbX",
        "outputId": "f26a1926-757c-4dad-dcfa-d1ea1f4e3bbc"
      },
      "outputs": [
        {
          "output_type": "stream",
          "name": "stdout",
          "text": [
            "Mounted at /content/drive\n"
          ]
        }
      ],
      "source": [
        "from google.colab import drive\n",
        "drive.mount('/content/drive')"
      ]
    },
    {
      "cell_type": "markdown",
      "metadata": {
        "id": "7OyZ9glgXv7P"
      },
      "source": [
        "This cell makes a list of files in 'videos' folder and creates a folder for saving excel files if not exists"
      ]
    },
    {
      "cell_type": "code",
      "execution_count": 6,
      "metadata": {
        "id": "lSrMJPB6a_If"
      },
      "outputs": [],
      "source": [
        "video_folder_path = '/content/drive/MyDrive/videos' \n",
        "files = os.listdir(video_folder_path) \n",
        "excel_folder_path = '/content/drive/MyDrive/xls' \n",
        "if not os.path.exists(excel_folder_path): \n",
        "  os.makedirs(excel_folder_path)"
      ]
    },
    {
      "cell_type": "markdown",
      "metadata": {
        "id": "70SZD5zoZJ9u"
      },
      "source": [
        "This cell picks up each video file and extracts its pose landmarks and then saves the landmark coordinates and frame numbers in an '.xlsx' file in 'xls' folder.  "
      ]
    },
    {
      "cell_type": "code",
      "execution_count": 37,
      "metadata": {
        "id": "6d1Wo7R1F6D-",
        "colab": {
          "base_uri": "https://localhost:8080/"
        },
        "outputId": "7cfcc06a-a4c8-4d9c-92ca-994a551223fc"
      },
      "outputs": [
        {
          "output_type": "stream",
          "name": "stdout",
          "text": [
            "10 frames failed\n"
          ]
        }
      ],
      "source": [
        "# Initiate holistic model\n",
        "holistic = mp_holistic.Holistic(min_detection_confidence=0.5, min_tracking_confidence=0.5)\n",
        "for item in files:\n",
        "  cap = cv2.VideoCapture(video_folder_path + '/' + item)\n",
        "  counter = 0\n",
        "  failed = 0\n",
        "  df = pd.DataFrame(columns= ['frame', 'x', 'y', 'z'])\n",
        "  while cap.isOpened():\n",
        "    ret, frame = cap.read()\n",
        "    \n",
        "    if ret == True:\n",
        "      \n",
        "      image = cv2.cvtColor(frame, cv2.COLOR_BGR2RGB)\n",
        "      results = holistic.process(image)\n",
        "      if results.pose_landmarks:\n",
        "        # saving to excel\n",
        "        counter += 1\n",
        "        data = [{'frame': counter, 'x': i.x,'y': i.y,'z': i.z} for i in results.pose_landmarks.landmark]\n",
        "        df1 = pd.DataFrame(data = data)\n",
        "        df = df.append(df1)\n",
        "      else:\n",
        "        failed += 1\n",
        "\n",
        "      if cv2.waitKey(5) & 0xFF == 27:\n",
        "        break\n",
        "\n",
        "    else:\n",
        "      break\n",
        "  print('{} frames failed'.format(failed))\n",
        "  name = excel_folder_path + '/' + item[:-3] + 'xlsx'\n",
        "  df = df.astype(float)\n",
        "  df.to_excel(name)\n",
        "\n",
        "  cap.release()\n",
        "  cv2.destroyAllWindows()"
      ]
    },
    {
      "cell_type": "markdown",
      "metadata": {
        "id": "QEDTT2zbculx"
      },
      "source": [
        "This cell makes a list of excel files in 'xls' folder and creates a 'pose' folder to store the pose videos in '.avi' format.\n",
        "From each '.xls' file it makes a video showing only landmarks and connections."
      ]
    },
    {
      "cell_type": "code",
      "execution_count": 7,
      "metadata": {
        "id": "kfaYNeRIODNM"
      },
      "outputs": [],
      "source": [
        "# Connections between points\n",
        "connections = [i for i in mp_holistic.POSE_CONNECTIONS]\n",
        "#print(connections)\n",
        "excel_files = os.listdir(excel_folder_path)\n",
        "res=(500,500) #resulotion\n",
        "pose_folder_path = '/content/drive/MyDrive/pose'\n",
        "if not os.path.exists(pose_folder_path):\n",
        "  os.makedirs(pose_folder_path)\n",
        "\n",
        "for item in excel_files:\n",
        "  name = pose_folder_path + '/' + item[:-4] + 'avi'\n",
        "  out = cv2.VideoWriter(name,cv2.VideoWriter_fourcc(*'DIVX'), 60, res)\n",
        "\n",
        "  df = pd.read_excel(excel_folder_path + '/' +item)\n",
        "\n",
        "  counter = 1\n",
        "  lmk = df.loc[(df['frame']==counter)]\n",
        "  img_arr = []\n",
        "  while not lmk.empty:\n",
        "    points = [(int(lmk['x'][i]*res[0]),int(lmk['y'][i]*res[1])) for i in lmk.index]\n",
        "    img = np.ones(shape=(res[0],res[1],3), dtype=np.uint8)\n",
        "\n",
        "    for i,j in points:\n",
        "      cv2.circle(img,(i,j), 3, (0,0,255), 0)\n",
        "\n",
        "    for i,j in connections:\n",
        "      cv2.line(img,points[i], points[j],(255,0,0), 1)\n",
        "\n",
        "    img_arr.append(img) \n",
        "    counter += 1\n",
        "    lmk = df.loc[(df['frame']==counter)]\n",
        "\n",
        "  for i in range(len(img_arr)):\n",
        "    out.write(img_arr[i])\n",
        "    \n",
        "  out.release()\n",
        "\n"
      ]
    }
  ],
  "metadata": {
    "colab": {
      "provenance": []
    },
    "gpuClass": "standard",
    "kernelspec": {
      "display_name": "Python 3",
      "name": "python3"
    },
    "language_info": {
      "name": "python"
    }
  },
  "nbformat": 4,
  "nbformat_minor": 0
}