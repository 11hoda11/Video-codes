{
  "cells": [
    {
      "cell_type": "code",
      "execution_count": 1,
      "metadata": {
        "colab": {
          "base_uri": "https://localhost:8080/"
        },
        "id": "zmGCFDrsV5mS",
        "outputId": "0475ee33-e289-4c0f-80eb-416476db31de"
      },
      "outputs": [
        {
          "output_type": "stream",
          "name": "stdout",
          "text": [
            "Looking in indexes: https://pypi.org/simple, https://us-python.pkg.dev/colab-wheels/public/simple/\n",
            "Collecting mediapipe\n",
            "  Downloading mediapipe-0.9.0.1-cp38-cp38-manylinux_2_17_x86_64.manylinux2014_x86_64.whl (33.0 MB)\n",
            "\u001b[K     |████████████████████████████████| 33.0 MB 1.2 MB/s \n",
            "\u001b[?25hRequirement already satisfied: absl-py in /usr/local/lib/python3.8/dist-packages (from mediapipe) (1.3.0)\n",
            "Requirement already satisfied: attrs>=19.1.0 in /usr/local/lib/python3.8/dist-packages (from mediapipe) (22.1.0)\n",
            "Collecting flatbuffers>=2.0\n",
            "  Downloading flatbuffers-22.12.6-py2.py3-none-any.whl (26 kB)\n",
            "Requirement already satisfied: matplotlib in /usr/local/lib/python3.8/dist-packages (from mediapipe) (3.2.2)\n",
            "Requirement already satisfied: opencv-contrib-python in /usr/local/lib/python3.8/dist-packages (from mediapipe) (4.6.0.66)\n",
            "Requirement already satisfied: protobuf<4,>=3.11 in /usr/local/lib/python3.8/dist-packages (from mediapipe) (3.19.6)\n",
            "Requirement already satisfied: numpy in /usr/local/lib/python3.8/dist-packages (from mediapipe) (1.21.6)\n",
            "Requirement already satisfied: pyparsing!=2.0.4,!=2.1.2,!=2.1.6,>=2.0.1 in /usr/local/lib/python3.8/dist-packages (from matplotlib->mediapipe) (3.0.9)\n",
            "Requirement already satisfied: kiwisolver>=1.0.1 in /usr/local/lib/python3.8/dist-packages (from matplotlib->mediapipe) (1.4.4)\n",
            "Requirement already satisfied: python-dateutil>=2.1 in /usr/local/lib/python3.8/dist-packages (from matplotlib->mediapipe) (2.8.2)\n",
            "Requirement already satisfied: cycler>=0.10 in /usr/local/lib/python3.8/dist-packages (from matplotlib->mediapipe) (0.11.0)\n",
            "Requirement already satisfied: six>=1.5 in /usr/local/lib/python3.8/dist-packages (from python-dateutil>=2.1->matplotlib->mediapipe) (1.15.0)\n",
            "Installing collected packages: flatbuffers, mediapipe\n",
            "  Attempting uninstall: flatbuffers\n",
            "    Found existing installation: flatbuffers 1.12\n",
            "    Uninstalling flatbuffers-1.12:\n",
            "      Successfully uninstalled flatbuffers-1.12\n",
            "\u001b[31mERROR: pip's dependency resolver does not currently take into account all the packages that are installed. This behaviour is the source of the following dependency conflicts.\n",
            "tensorflow 2.9.2 requires flatbuffers<2,>=1.12, but you have flatbuffers 22.12.6 which is incompatible.\u001b[0m\n",
            "Successfully installed flatbuffers-22.12.6 mediapipe-0.9.0.1\n"
          ]
        }
      ],
      "source": [
        "!pip install mediapipe"
      ]
    },
    {
      "cell_type": "code",
      "execution_count": 2,
      "metadata": {
        "id": "Pnr2NSPWUa2G"
      },
      "outputs": [],
      "source": [
        "import mediapipe as mp\n",
        "import cv2\n",
        "import numpy as np\n",
        "from google.colab.patches import cv2_imshow\n",
        "import pandas as pd\n",
        "import openpyxl\n",
        "import os\n",
        "#mp_drawing=mp.solutions.drawing_utils\n",
        "mp_holistic=mp.solutions.holistic\n",
        "\n"
      ]
    },
    {
      "cell_type": "code",
      "source": [
        "video_folder_path = '/content/drive/MyDrive/videos'\n",
        "excel_folder_path = '/content/drive/MyDrive/xls'\n",
        "if not os.path.exists(excel_folder_path):\n",
        "  os.makedirs(excel_folder_path)\n",
        "files = os.listdir(video_folder_path)\n"
      ],
      "metadata": {
        "id": "oRKgQPIO85lc"
      },
      "execution_count": 3,
      "outputs": []
    },
    {
      "cell_type": "code",
      "source": [
        "# Initiate holistic model\n",
        "holistic = mp_holistic.Holistic(min_detection_confidence=0.5, min_tracking_confidence=0.5)\n",
        "for item in files:\n",
        "  cap = cv2.VideoCapture(video_folder_path + '/' + item)\n",
        "  counter = 0\n",
        "  df = pd.DataFrame(columns= ['frame', 'x', 'y', 'z'])\n",
        "  while cap.isOpened():\n",
        "    ret, frame = cap.read()\n",
        "    \n",
        "    if ret == True:\n",
        "      counter += 1\n",
        "      # Convert the feed from BGR to RGB\n",
        "      image = cv2.cvtColor(frame, cv2.COLOR_BGR2RGB)\n",
        "      # Refer the section above how to make detections on feed\n",
        "      results = holistic.process(image)\n",
        "\n",
        "      # saving to excel\n",
        "      data = [{'frame': counter, 'x': i.x,'y': i.y,'z': i.z} for i in results.pose_landmarks.landmark]\n",
        "      df1 = pd.DataFrame(data = data)\n",
        "      df = df.append(df1)\n",
        "\n",
        "      if cv2.waitKey(5) & 0xFF == 27:\n",
        "        break\n",
        "\n",
        "    else:\n",
        "      break\n",
        "  name = excel_folder_path + '/' + item[:-3] + 'xlsx'\n",
        "  df = df.astype(float)\n",
        "  df.to_excel(name)\n",
        "\n",
        "  cap.release()\n",
        "  cv2.destroyAllWindows()"
      ],
      "metadata": {
        "id": "6d1Wo7R1F6D-"
      },
      "execution_count": 21,
      "outputs": []
    },
    {
      "cell_type": "code",
      "source": [
        "connections = [i for i in mp_holistic.POSE_CONNECTIONS]\n",
        "print(connections)"
      ],
      "metadata": {
        "colab": {
          "base_uri": "https://localhost:8080/"
        },
        "id": "kfaYNeRIODNM",
        "outputId": "56c7eb6b-013e-4f19-e0c9-f7b00c2a0a98"
      },
      "execution_count": 5,
      "outputs": [
        {
          "output_type": "stream",
          "name": "stdout",
          "text": [
            "[(15, 21), (16, 20), (18, 20), (3, 7), (14, 16), (23, 25), (28, 30), (11, 23), (27, 31), (6, 8), (15, 17), (24, 26), (16, 22), (4, 5), (5, 6), (29, 31), (12, 24), (23, 24), (0, 1), (9, 10), (1, 2), (0, 4), (11, 13), (30, 32), (28, 32), (15, 19), (16, 18), (25, 27), (26, 28), (12, 14), (17, 19), (2, 3), (11, 12), (27, 29), (13, 15)]\n"
          ]
        }
      ]
    },
    {
      "cell_type": "code",
      "source": [
        "excel_files = os.listdir(excel_folder_path)\n",
        "res=(500,500) #resulotion\n",
        "pose_folder_path = '/content/drive/MyDrive/pose'\n",
        "if not os.path.exists(pose_folder_path):\n",
        "  os.makedirs(pose_folder_path)\n",
        "\n",
        "for item in excel_files:\n",
        "  name = pose_folder_path + '/' + item[:-4] + 'avi'\n",
        "  out = cv2.VideoWriter(name,cv2.VideoWriter_fourcc(*'DIVX'), 60, res)\n",
        "\n",
        "  df = pd.read_excel(excel_folder_path + '/' +item)\n",
        "\n",
        "  counter = 1\n",
        "  lmk = df.loc[(df['frame']==counter)]\n",
        "  img_arr = []\n",
        "  while not lmk.empty:\n",
        "    points = [(int(lmk['x'][i]*res[0]),int(lmk['y'][i]*res[1])) for i in lmk.index]\n",
        "    img = np.ones(shape=(res[0],res[1],3), dtype=np.uint8)\n",
        "\n",
        "    for i,j in points:\n",
        "      cv2.circle(img,(i,j), 3, (0,0,255), 0)\n",
        "\n",
        "    for i,j in connections:\n",
        "      cv2.line(img,points[i], points[j],(255,0,0), 1)\n",
        "\n",
        "    img_arr.append(img) \n",
        "    counter += 1\n",
        "    lmk = df.loc[(df['frame']==counter)]\n",
        "\n",
        "  for i in range(len(img_arr)):\n",
        "    out.write(img_arr[i])\n",
        "    \n",
        "  out.release()\n",
        "\n"
      ],
      "metadata": {
        "id": "3medbYLWXbkW"
      },
      "execution_count": null,
      "outputs": []
    }
  ],
  "metadata": {
    "colab": {
      "provenance": []
    },
    "gpuClass": "standard",
    "kernelspec": {
      "display_name": "Python 3",
      "name": "python3"
    },
    "language_info": {
      "name": "python"
    }
  },
  "nbformat": 4,
  "nbformat_minor": 0
}